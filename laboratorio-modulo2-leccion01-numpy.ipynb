{
 "cells": [
  {
   "cell_type": "markdown",
   "id": "6db588db",
   "metadata": {},
   "source": [
    "<div style=\"text-align: center;\">\n",
    "  <img src=\"https://github.com/Hack-io-Data/Imagenes/blob/main/01-LogosHackio/logo_naranja@4x.png?raw=true\" alt=\"esquema\" />\n",
    "</div>"
   ]
  },
  {
   "cell_type": "markdown",
   "id": "11308d6c",
   "metadata": {},
   "source": [
    "# Laboratorio de NumPy"
   ]
  },
  {
   "cell_type": "code",
   "execution_count": 2,
   "id": "1e913bde",
   "metadata": {},
   "outputs": [],
   "source": [
    "import numpy as np"
   ]
  },
  {
   "cell_type": "markdown",
   "id": "a19d4596",
   "metadata": {},
   "source": [
    "#### Ejercicio 1 - Crea un array de 1D con los números del 0 al 9."
   ]
  },
  {
   "cell_type": "code",
   "execution_count": 3,
   "id": "9d4e1d42",
   "metadata": {},
   "outputs": [
    {
     "data": {
      "text/plain": [
       "array([0, 1, 2, 3, 4, 5, 6, 7, 8, 9])"
      ]
     },
     "execution_count": 3,
     "metadata": {},
     "output_type": "execute_result"
    }
   ],
   "source": [
    "lista_array = [0, 1, 2, 3, 4, 5, 6, 7, 8, 9]\n",
    "array_unidimensional_ej1 = np.array(lista_array)\n",
    "array_unidimensional_ej1"
   ]
  },
  {
   "cell_type": "markdown",
   "id": "f4a41f16",
   "metadata": {},
   "source": [
    "#### Ejercicio 2 - Convierte un array 1D en un array 2D con 2 filas y 5 columnas."
   ]
  },
  {
   "cell_type": "code",
   "execution_count": 4,
   "id": "3d7cef3c",
   "metadata": {},
   "outputs": [
    {
     "name": "stdout",
     "output_type": "stream",
     "text": [
      "El array original es: \n",
      " [0 1 2 3 4 5 6 7 8 9]\n",
      "\n",
      "El array modificado es: \n",
      " [[0 1 2 3 4]\n",
      " [5 6 7 8 9]]\n"
     ]
    }
   ],
   "source": [
    "print(f\"El array original es: \\n {array_unidimensional_ej1}\\n\")\n",
    "array_unidimensional_modif = np.reshape(array_unidimensional_ej1, (2, 5))\n",
    "print(f\"El array modificado es: \\n {array_unidimensional_modif}\")"
   ]
  },
  {
   "cell_type": "markdown",
   "id": "86bb8999",
   "metadata": {},
   "source": [
    "#### Ejercicio 3 - Encuentra los índices de los elementos con valor distinto de 0 en el siguiente array: [0, 2, 0, 3, 0, 4, 0]."
   ]
  },
  {
   "cell_type": "code",
   "execution_count": 5,
   "id": "d1fcfca4",
   "metadata": {},
   "outputs": [
    {
     "name": "stdout",
     "output_type": "stream",
     "text": [
      "Mi array inicial es [0 2 0 3 0 4 0]\n",
      "Los índices de los elementos diferentes de cero del array son (array([1, 3, 5]),)\n"
     ]
    }
   ],
   "source": [
    "lista_array_ej2 = [0, 2, 0, 3, 0, 4, 0]\n",
    "\n",
    "array_unidimensional_ej2 = np.array(lista_array_ej2)\n",
    "resultado_where = np.where(array_unidimensional_ej2 != 0)\n",
    "# La función np.where me devuelve los índices de los elementos que cumplen con la condición indicada.\n",
    "print(f\"Mi array inicial es {array_unidimensional_ej2}\")\n",
    "print(f\"Los índices de los elementos diferentes de cero del array son {resultado_where}\")\n",
    "#usar lo de la máscara y el true false"
   ]
  },
  {
   "cell_type": "markdown",
   "id": "1c548419",
   "metadata": {},
   "source": [
    "#### Ejercicio 4 - Crea un array 3x3 con valores aleatorios entre 0 y 1."
   ]
  },
  {
   "cell_type": "code",
   "execution_count": 6,
   "id": "e1d4f19f",
   "metadata": {},
   "outputs": [
    {
     "data": {
      "text/plain": [
       "array([[0.94953666, 0.48557568, 0.41439913],\n",
       "       [0.63914193, 0.75939706, 0.20168688],\n",
       "       [0.09557474, 0.63146085, 0.73624519]])"
      ]
     },
     "execution_count": 6,
     "metadata": {},
     "output_type": "execute_result"
    }
   ],
   "source": [
    "#el método random.rand me devuelve la matriz con datos aleatorios entre 0 y 1 directamente.Se podría usar también, random.randint si le indicamos el rango\n",
    "# de números entre los que queremos que nos genere los elementos de la matriz. \n",
    "array_bidimensional_ej4 = np.random.rand(3,3)\n",
    "array_bidimensional_ej4\n",
    "# no se puede usar randint pq solo va a devolver números enteros. "
   ]
  },
  {
   "cell_type": "markdown",
   "id": "aee82811",
   "metadata": {},
   "source": [
    "#### Ejercicio 5 - Crea un array de 10 números aleatorios y encuentra el valor máximo y mínimo."
   ]
  },
  {
   "cell_type": "code",
   "execution_count": 7,
   "id": "81fea76e",
   "metadata": {},
   "outputs": [
    {
     "name": "stdout",
     "output_type": "stream",
     "text": [
      "[[8 5 4 7 8 9 1 7 7 6]]\n",
      "9\n",
      "1\n"
     ]
    }
   ],
   "source": [
    "array_unidimensional_ej5 = np.random.randint(1,10, (1,10))\n",
    "\n",
    "# El método np.arange me crea un array con el máximo de 9 en este caso.\n",
    "\n",
    "valor_maximo = np.max(array_unidimensional_ej5)\n",
    "valor_minimo = np.min(array_unidimensional_ej5)\n",
    "\n",
    "print(array_unidimensional_ej5)\n",
    "print(valor_maximo)\n",
    "print(valor_minimo)"
   ]
  },
  {
   "cell_type": "markdown",
   "id": "6559375b",
   "metadata": {},
   "source": [
    "#### Ejercicio 6 - Crea un array de una dimensión e inviértelo. "
   ]
  },
  {
   "cell_type": "markdown",
   "id": "e9596fcf",
   "metadata": {},
   "source": [
    "La inversa de una matriz cuadrada <i>A</i>, y expresada como <i>A<sup>-1</sup></i>, es aquella matriz que, al multiplicarla por <i>A</i>, da como resultado la matriz identidad del orden correspondiente, .\n",
    "\n",
    "\n",
    "$$\n",
    "A \\cdot A^{-1} = I = A^{-1} \\cdot A\n",
    "$$\n",
    "\n",
    "No siempre va a existir la amtriz inversa, ya que se tiene que cumplir que el determinante de la amtriz sea diferente de 0. Esta es condición necesaria y suficiente. \n",
    "\n",
    "$$\n",
    "\\exists A^{-1} \\iff |A| \\neq 0\n",
    "$$\n",
    "\n",
    "Para calcular la matriz inversa en python vamos a usar la función np.linalg.inv(matriz). Esta función calcula la inversa de una matriz cuadrada, ya que en caso de que no sea cuadrada, devolverá error. Adjuntamos a continuación el enlace a la documentación correspondiente: https://numpy.org/doc/2.1/reference/generated/numpy.linalg.inv.html#numpy.linalg.inv\n",
    "\n",
    "\n",
    "\n",
    "\n"
   ]
  },
  {
   "cell_type": "code",
   "execution_count": 8,
   "id": "31385db0",
   "metadata": {},
   "outputs": [
    {
     "data": {
      "text/plain": [
       "array([[7, 7],\n",
       "       [5, 1],\n",
       "       [1, 6]], dtype=int32)"
      ]
     },
     "execution_count": 8,
     "metadata": {},
     "output_type": "execute_result"
    }
   ],
   "source": [
    "array_ej6 = np.random.randint(1, 10, (3,2))\n",
    "array_ej6"
   ]
  },
  {
   "cell_type": "code",
   "execution_count": 9,
   "id": "f24099bc",
   "metadata": {},
   "outputs": [
    {
     "name": "stdout",
     "output_type": "stream",
     "text": [
      "La matriz no es cuadrada, por lo que no se puede calcular la inversa ni el determinante\n"
     ]
    }
   ],
   "source": [
    "try: \n",
    "    determinante_matriz = np.linalg.det(array_ej6)\n",
    "    inversa_array = np.linalg.inv(array_ej6)\n",
    "    print(f\"La inversa de la matriz es: \\n {inversa_array} \\n\")\n",
    "    print(f\"El determinante de la matriz es: \\n {determinante_matriz}\")\n",
    "except np.linalg.LinAlgError: \n",
    "    print(\"La matriz no es cuadrada, por lo que no se puede calcular la inversa ni el determinante\")"
   ]
  },
  {
   "cell_type": "markdown",
   "id": "4457f046",
   "metadata": {},
   "source": [
    "\n",
    "#### Ejercicio 7 - Genera un array tridimensional de dimensiones (2, 3, 4) con valores enteros del 1 al 24.\n",
    "\n",
    "- Selecciona el primer `15` del array.\n",
    "\n",
    "- Selecciona todos los elementos del primer array. \n",
    "\n",
    "- Selecciona la última fila del último array\n"
   ]
  },
  {
   "cell_type": "code",
   "execution_count": 10,
   "id": "3cab04c9",
   "metadata": {},
   "outputs": [
    {
     "name": "stdout",
     "output_type": "stream",
     "text": [
      "[[[12 23 12 20]\n",
      "  [ 7  9 22 12]\n",
      "  [16 18 13 20]]\n",
      "\n",
      " [[15 22 16 22]\n",
      "  [ 6 18  5 15]\n",
      "  [22 17 22  9]]]\n"
     ]
    }
   ],
   "source": [
    "array_tridimensional1 = np.random.randint(1, 24, (2,3,4))\n",
    "print(array_tridimensional1)\n",
    "\n"
   ]
  },
  {
   "cell_type": "code",
   "execution_count": 11,
   "id": "c3383b74",
   "metadata": {},
   "outputs": [
    {
     "name": "stdout",
     "output_type": "stream",
     "text": [
      "13 \n",
      "\n",
      "[[12 23 12 20]\n",
      " [ 7  9 22 12]\n",
      " [16 18 13 20]] \n",
      "\n",
      "[22 17 22  9] \n",
      "\n"
     ]
    }
   ],
   "source": [
    "primer_quince = array_tridimensional1[0,2,2]\n",
    "primer_array = array_tridimensional1[0,:]\n",
    "ultima_fila_array = array_tridimensional1[1,2,:]\n",
    "print(primer_quince,\"\\n\")\n",
    "print(primer_array, \"\\n\")\n",
    "print(ultima_fila_array,\"\\n\")\n"
   ]
  },
  {
   "cell_type": "markdown",
   "id": "681b7e4e",
   "metadata": {},
   "source": [
    "\n",
    "#### Ejercicio 8 - Genera un array tridimensional de dimensiones (3, 2, 5) con valores enteros del 1 al 30.\n",
    "\n",
    "- Selecciona el subarray que contiene los dos primeros elementos de cada fila del primer array.\n",
    "\n",
    "- Selecciona el subarray que contiene todas las filas de los dos últimos arrays.\n"
   ]
  },
  {
   "cell_type": "code",
   "execution_count": 12,
   "id": "b008a9aa",
   "metadata": {},
   "outputs": [
    {
     "data": {
      "text/plain": [
       "array([[[10, 20,  4, 10, 16],\n",
       "        [27, 14, 14, 20, 11]],\n",
       "\n",
       "       [[14, 23, 22, 17,  7],\n",
       "        [16, 12, 13, 12,  9]],\n",
       "\n",
       "       [[ 2, 26, 18,  3, 13],\n",
       "        [24,  4, 26, 17,  2]]], dtype=int32)"
      ]
     },
     "execution_count": 12,
     "metadata": {},
     "output_type": "execute_result"
    }
   ],
   "source": [
    "array_tridimensional2 = np.random.randint(1, 30, (3,2,5))\n",
    "array_tridimensional2"
   ]
  },
  {
   "cell_type": "code",
   "execution_count": 13,
   "id": "b6e3c30c",
   "metadata": {},
   "outputs": [
    {
     "name": "stdout",
     "output_type": "stream",
     "text": [
      "[10 27] \n",
      "\n",
      "[[[16 12 13 12  9]]\n",
      "\n",
      " [[24  4 26 17  2]]]\n"
     ]
    }
   ],
   "source": [
    "dos_prim_elem_fila = array_tridimensional2[0,:,0]\n",
    "todas_filas_utl_arrays = array_tridimensional2[1:,1:,:]\n",
    "print(dos_prim_elem_fila, \"\\n\")\n",
    "print(todas_filas_utl_arrays)"
   ]
  },
  {
   "cell_type": "markdown",
   "id": "4fabd9d0",
   "metadata": {},
   "source": [
    "#### Ejercicio 9 - Genera un array tridimensional de dimensiones (4, 3, 2) con valores enteros del 1 al 24.\n",
    "\n",
    "- Cambia todos los elementos de la segunda fila del segundo array por `0`.\n",
    "\n",
    "- Cambia todos los valores del último array a `-1`.\n"
   ]
  },
  {
   "cell_type": "code",
   "execution_count": 14,
   "id": "0ef45b69",
   "metadata": {},
   "outputs": [
    {
     "data": {
      "text/plain": [
       "array([[[ 4,  9],\n",
       "        [21, 20],\n",
       "        [14,  7]],\n",
       "\n",
       "       [[ 6, 20],\n",
       "        [ 7, 10],\n",
       "        [19, 12]],\n",
       "\n",
       "       [[10, 15],\n",
       "        [17,  5],\n",
       "        [12, 12]],\n",
       "\n",
       "       [[20, 18],\n",
       "        [ 4, 20],\n",
       "        [ 8, 13]]], dtype=int32)"
      ]
     },
     "execution_count": 14,
     "metadata": {},
     "output_type": "execute_result"
    }
   ],
   "source": [
    "array_tridimensional_ej9 = np.random.randint(1, 24, (4,3,2))\n",
    "array_tridimensional_ej9\n"
   ]
  },
  {
   "cell_type": "code",
   "execution_count": 15,
   "id": "090114cf",
   "metadata": {},
   "outputs": [
    {
     "data": {
      "text/plain": [
       "array([[[ 4,  9],\n",
       "        [21, 20],\n",
       "        [14,  7]],\n",
       "\n",
       "       [[ 6, 20],\n",
       "        [ 0,  0],\n",
       "        [19, 12]],\n",
       "\n",
       "       [[10, 15],\n",
       "        [17,  5],\n",
       "        [12, 12]],\n",
       "\n",
       "       [[-1, -1],\n",
       "        [-1, -1],\n",
       "        [-1, -1]]], dtype=int32)"
      ]
     },
     "execution_count": 15,
     "metadata": {},
     "output_type": "execute_result"
    }
   ],
   "source": [
    "def modificar_array_ej9(array_ej9):\n",
    "\n",
    "    array_ej9[1, 1, : ] = 0\n",
    "    array_ej9[3, : , : ] = -1\n",
    "    return array_ej9\n",
    "\n",
    "modificar_array_ej9(array_tridimensional_ej9)"
   ]
  },
  {
   "cell_type": "markdown",
   "id": "c60bc3bb",
   "metadata": {},
   "source": [
    "\n",
    "#### Ejercicio 10 - Genera un array tridimensional de dimensiones (2, 4, 3) con valores enteros del -10 al 13.\n",
    "\n",
    "- Selecciona todos los elementos mayores a `5`.\n",
    "\n",
    "- Reemplaza todos los elementos negativos por `0`.\n"
   ]
  },
  {
   "cell_type": "code",
   "execution_count": 16,
   "id": "28bf9232",
   "metadata": {},
   "outputs": [
    {
     "data": {
      "text/plain": [
       "array([[[ 5, -4,  6],\n",
       "        [-6, -4,  2],\n",
       "        [ 0, -7,  9],\n",
       "        [-8, -8,  2]],\n",
       "\n",
       "       [[-7, -1,  7],\n",
       "        [-9, 10,  4],\n",
       "        [ 1,  1,  9],\n",
       "        [ 3, -3, -5]]], dtype=int32)"
      ]
     },
     "execution_count": 16,
     "metadata": {},
     "output_type": "execute_result"
    }
   ],
   "source": [
    "array_tridimensional_ej10 = np.random.randint(-10, 13, (2,4,3))\n",
    "array_tridimensional_ej10"
   ]
  },
  {
   "cell_type": "code",
   "execution_count": 17,
   "id": "cd4c7927",
   "metadata": {},
   "outputs": [
    {
     "name": "stdout",
     "output_type": "stream",
     "text": [
      "Los elementos de mayores a 5 del array tridimensional son: [ 6  9  7 10  9]\n"
     ]
    },
    {
     "data": {
      "text/plain": [
       "array([[[ 5,  0,  6],\n",
       "        [ 0,  0,  2],\n",
       "        [ 0,  0,  9],\n",
       "        [ 0,  0,  2]],\n",
       "\n",
       "       [[ 0,  0,  7],\n",
       "        [ 0, 10,  4],\n",
       "        [ 1,  1,  9],\n",
       "        [ 3,  0,  0]]], dtype=int32)"
      ]
     },
     "execution_count": 17,
     "metadata": {},
     "output_type": "execute_result"
    }
   ],
   "source": [
    "def modificar_array_ej10(array_ej10):\n",
    "\n",
    "    print(f\"Los elementos de mayores a 5 del array tridimensional son: {array_ej10[array_ej10 > 5]}\")  \n",
    "    array_ej10[array_ej10 < 0] = 0\n",
    "    return array_ej10\n",
    "\n",
    "modificar_array_ej10(array_tridimensional_ej10)"
   ]
  },
  {
   "cell_type": "markdown",
   "id": "ab38a3be",
   "metadata": {},
   "source": [
    "#### Ejercicio 11 - Genera un array tridimensional de dimensiones (3, 3, 3) con valores enteros del 1 al 27.\n",
    "\n",
    "- Selecciona el subarray del segundo array que contenga solo las dos primeras columnas.\n",
    "\n",
    "- Selecciona todos los elementos del tercer array que sean mayores que `20`.\n"
   ]
  },
  {
   "cell_type": "code",
   "execution_count": 18,
   "id": "78c979cf",
   "metadata": {},
   "outputs": [
    {
     "data": {
      "text/plain": [
       "array([[[12,  3, 21],\n",
       "        [ 3,  8, 24],\n",
       "        [14, 10, 25]],\n",
       "\n",
       "       [[12, 17, 13],\n",
       "        [21,  4,  9],\n",
       "        [21, 16, 17]],\n",
       "\n",
       "       [[ 2,  2,  2],\n",
       "        [20, 16, 11],\n",
       "        [15, 24,  5]]], dtype=int32)"
      ]
     },
     "execution_count": 18,
     "metadata": {},
     "output_type": "execute_result"
    }
   ],
   "source": [
    "array_tridimensional_ej11 = np.random.randint(1, 27, (3,3,3))\n",
    "array_tridimensional_ej11"
   ]
  },
  {
   "cell_type": "code",
   "execution_count": 19,
   "id": "c8469d9d",
   "metadata": {},
   "outputs": [
    {
     "name": "stdout",
     "output_type": "stream",
     "text": [
      "[[12 17]\n",
      " [21  4]\n",
      " [21 16]]\n"
     ]
    },
    {
     "data": {
      "text/plain": [
       "array([21, 24, 25, 21, 21, 24], dtype=int32)"
      ]
     },
     "execution_count": 19,
     "metadata": {},
     "output_type": "execute_result"
    }
   ],
   "source": [
    "def seleccionar_elem_ej11(array_ej11):\n",
    "    \n",
    "    print(f\"{array_ej11[1, : , : 2]}\")\n",
    "    valores_mayores20 = array_ej11[array_ej11 > 20]\n",
    "    return valores_mayores20\n",
    "\n",
    "seleccionar_elem_ej11(array_tridimensional_ej11)"
   ]
  },
  {
   "cell_type": "markdown",
   "id": "f1a00156",
   "metadata": {},
   "source": [
    "#### Ejercicio 12 - Crea un array de 10 números aleatorios y reemplaza los valores máximos y mínimos por 0.\n",
    "\n",
    "TERMINAR"
   ]
  },
  {
   "cell_type": "code",
   "execution_count": 20,
   "id": "990fa526",
   "metadata": {},
   "outputs": [
    {
     "data": {
      "text/plain": [
       "array([0.034, 0.95 , 0.821, 0.459, 0.39 , 0.192, 0.139, 0.002, 0.147,\n",
       "       0.329])"
      ]
     },
     "execution_count": 20,
     "metadata": {},
     "output_type": "execute_result"
    }
   ],
   "source": [
    "array_ejercicio12 = np.round(np.random.rand(10), 3)\n",
    "array_ejercicio12"
   ]
  },
  {
   "cell_type": "code",
   "execution_count": 21,
   "id": "b296c00c",
   "metadata": {},
   "outputs": [
    {
     "name": "stdout",
     "output_type": "stream",
     "text": [
      "El valor máximo del array es 0.95\n",
      "El valor máximo del array es 0.002\n"
     ]
    },
    {
     "data": {
      "text/plain": [
       "array([0.034, 0.   , 0.821, 0.459, 0.39 , 0.192, 0.139, 0.   , 0.147,\n",
       "       0.329])"
      ]
     },
     "execution_count": 21,
     "metadata": {},
     "output_type": "execute_result"
    }
   ],
   "source": [
    "valor_maximo = np.max(array_ejercicio12)\n",
    "valor_minimo = np.min(array_ejercicio12)\n",
    "print(f\"El valor máximo del array es {valor_maximo}\")\n",
    "print(f\"El valor máximo del array es {valor_minimo}\")\n",
    "\n",
    "array_ejercicio12[array_ejercicio12 == valor_maximo] = 0\n",
    "array_ejercicio12[array_ejercicio12 == valor_minimo] = 0\n",
    "array_ejercicio12\n"
   ]
  },
  {
   "cell_type": "markdown",
   "id": "781fafd0",
   "metadata": {},
   "source": [
    "#### Ejercicio 13 - Genera un array de 15 números aleatorios enteros entre 1 y 100 y reordénalo en orden ascendente."
   ]
  },
  {
   "cell_type": "code",
   "execution_count": 22,
   "id": "caa4fd47",
   "metadata": {},
   "outputs": [
    {
     "data": {
      "text/plain": [
       "array([99, 20, 78, 13,  9,  1, 21, 96, 17, 23, 11, 16, 73, 60, 32],\n",
       "      dtype=int32)"
      ]
     },
     "execution_count": 22,
     "metadata": {},
     "output_type": "execute_result"
    }
   ],
   "source": [
    "array_ejercicio13 = np.random.randint(1,100, 15)\n",
    "array_ejercicio13"
   ]
  },
  {
   "cell_type": "code",
   "execution_count": 23,
   "id": "4123f253",
   "metadata": {},
   "outputs": [
    {
     "data": {
      "text/plain": [
       "array([ 1,  9, 11, 13, 16, 17, 20, 21, 23, 32, 60, 73, 78, 96, 99],\n",
       "      dtype=int32)"
      ]
     },
     "execution_count": 23,
     "metadata": {},
     "output_type": "execute_result"
    }
   ],
   "source": [
    "array_ordenado = np.sort(array_ejercicio13)\n",
    "array_ordenado"
   ]
  },
  {
   "cell_type": "markdown",
   "id": "45f10c3e",
   "metadata": {},
   "source": [
    "#### Ejercicio 14 - Calcula la suma de los elementos a lo largo de las filas y columnas en una matriz 4x4."
   ]
  },
  {
   "cell_type": "code",
   "execution_count": 24,
   "id": "90220788",
   "metadata": {},
   "outputs": [
    {
     "data": {
      "text/plain": [
       "array([[6, 7, 3, 2],\n",
       "       [1, 9, 7, 6],\n",
       "       [9, 5, 3, 5],\n",
       "       [8, 5, 3, 4]], dtype=int32)"
      ]
     },
     "execution_count": 24,
     "metadata": {},
     "output_type": "execute_result"
    }
   ],
   "source": [
    "array_ejercicio14 = np.random.randint(1, 10, (4,4))\n",
    "array_ejercicio14"
   ]
  },
  {
   "cell_type": "markdown",
   "id": "278d8798",
   "metadata": {},
   "source": [
    "**Realización mediante uso de fórmula**\n",
    "\n",
    "La función np.add.reduce permite realizar la suma de los elementos de un array por ejes. Me devolverá una lista con los elementos correspondientes a la suma de cada eje. En este caso, al ser una matriz cuadrada me devolverá una lista con 4 elementos tanto para filas como para columnas"
   ]
  },
  {
   "cell_type": "code",
   "execution_count": 25,
   "id": "c9664e05",
   "metadata": {},
   "outputs": [
    {
     "name": "stdout",
     "output_type": "stream",
     "text": [
      "La suma de los elementos de las filas es: [18 23 22 20]\n",
      "La suma de los elementos de las columnas es:[24 26 16 17]\n"
     ]
    }
   ],
   "source": [
    "b_filas = np.add.reduce(array_ejercicio14, axis=1)\n",
    "b_columnas = np.add.reduce(array_ejercicio14, axis=0)\n",
    "print(f\"La suma de los elementos de las filas es: {b_filas}\")\n",
    "print(f\"La suma de los elementos de las columnas es:{b_columnas}\") \n",
    "\n"
   ]
  },
  {
   "cell_type": "markdown",
   "id": "31af08c5",
   "metadata": {},
   "source": [
    "**Forma manual de realizarlo**\n"
   ]
  },
  {
   "cell_type": "code",
   "execution_count": 26,
   "id": "ca453b3f",
   "metadata": {},
   "outputs": [],
   "source": [
    "suma_fila1 = np.sum(array_ejercicio14[0, : ])\n",
    "suma_fila2 = np.sum(array_ejercicio14[1, : ])\n",
    "suma_fila3 = np.sum(array_ejercicio14[2, : ])\n",
    "suma_fila4 = np.sum(array_ejercicio14[3, : ])\n",
    "suma_columna1 = np.sum(array_ejercicio14[:, 0])\n",
    "suma_columna2 = np.sum(array_ejercicio14[:, 1])\n",
    "suma_columna3 = np.sum(array_ejercicio14[:, 2])\n",
    "suma_columna4 = np.sum(array_ejercicio14[:, 3])"
   ]
  },
  {
   "cell_type": "code",
   "execution_count": 27,
   "id": "5b74bf3f",
   "metadata": {},
   "outputs": [
    {
     "name": "stdout",
     "output_type": "stream",
     "text": [
      "18\n",
      "23\n",
      "22\n",
      "20\n",
      "24\n",
      "26\n",
      "16\n",
      "17\n"
     ]
    }
   ],
   "source": [
    "print(f\"{suma_fila1}\")\n",
    "print(f\"{suma_fila2}\")\n",
    "print(f\"{suma_fila3}\")\n",
    "print(f\"{suma_fila4}\")\n",
    "print(f\"{suma_columna1}\")\n",
    "print(f\"{suma_columna2}\")\n",
    "print(f\"{suma_columna3}\")\n",
    "print(f\"{suma_columna4}\")"
   ]
  },
  {
   "cell_type": "markdown",
   "id": "69b9751a",
   "metadata": {},
   "source": [
    "#### Ejercicio 15 - Crea una matriz de 5x5 con valores en el borde igual a 1 y en el interior igual a 0."
   ]
  },
  {
   "cell_type": "markdown",
   "id": "0633c145",
   "metadata": {},
   "source": [
    "**Uso de la función eye()**\n",
    "\n",
    "La función eye nos permite crear una matriz diagnoal de identidad de nxn. Para ello se debe pasar la dimensión de la matriz en el argumento a pasar.\n",
    "\n",
    "Cuidado: solo genera matrices cuadradas, por lo que si le pasamos un 4, será una 4x4, pero no podrá crear por ejemplo una 3x4."
   ]
  },
  {
   "cell_type": "code",
   "execution_count": 28,
   "id": "eca81323",
   "metadata": {},
   "outputs": [
    {
     "data": {
      "text/plain": [
       "array([[1., 0., 0., 0., 0.],\n",
       "       [0., 1., 0., 0., 0.],\n",
       "       [0., 0., 1., 0., 0.],\n",
       "       [0., 0., 0., 1., 0.],\n",
       "       [0., 0., 0., 0., 1.]])"
      ]
     },
     "execution_count": 28,
     "metadata": {},
     "output_type": "execute_result"
    }
   ],
   "source": [
    "array_ejericio15 = np.eye(5)\n",
    "array_ejericio15\n",
    "\n"
   ]
  },
  {
   "cell_type": "code",
   "execution_count": 29,
   "id": "223bd241",
   "metadata": {},
   "outputs": [
    {
     "data": {
      "text/plain": [
       "array([[1, 0, 0, 0, 0],\n",
       "       [0, 1, 0, 0, 0],\n",
       "       [0, 0, 1, 0, 0],\n",
       "       [0, 0, 0, 1, 0],\n",
       "       [0, 0, 0, 0, 1]])"
      ]
     },
     "execution_count": 29,
     "metadata": {},
     "output_type": "execute_result"
    }
   ],
   "source": [
    "lista_diag = [1, 1, 1, 1, 1]\n",
    "array_ejericio15_1 = np.diag(lista_diag)\n",
    "array_ejericio15_1\n",
    "\n"
   ]
  },
  {
   "cell_type": "markdown",
   "id": "1ea8068d",
   "metadata": {},
   "source": [
    "#### Ejercicio 16 - Calcula la media y la desviación estándar de un array de 10 números aleatorios."
   ]
  },
  {
   "cell_type": "code",
   "execution_count": 30,
   "id": "05dd579d",
   "metadata": {},
   "outputs": [
    {
     "data": {
      "text/plain": [
       "array([0.15581437, 0.00652589, 0.27673467, 0.9728962 , 0.46694069,\n",
       "       0.45986785, 0.71974118, 0.39873068, 0.61059029, 0.25545141])"
      ]
     },
     "execution_count": 30,
     "metadata": {},
     "output_type": "execute_result"
    }
   ],
   "source": [
    "array_ejercicio16 = np.random.random(10)\n",
    "array_ejercicio16"
   ]
  },
  {
   "cell_type": "code",
   "execution_count": 31,
   "id": "b6136fca",
   "metadata": {},
   "outputs": [
    {
     "name": "stdout",
     "output_type": "stream",
     "text": [
      "0.432\n",
      "0.269\n"
     ]
    }
   ],
   "source": [
    "media_array_ej16 = round(np.mean(array_ejercicio16),3)\n",
    "desviacion_array_ej16 = round(np.std(array_ejercicio16), 3)\n",
    "print(media_array_ej16)\n",
    "print(desviacion_array_ej16)"
   ]
  },
  {
   "cell_type": "markdown",
   "id": "6add6669",
   "metadata": {},
   "source": [
    "#### Ejercicio 17 - Genera un array tridimensional de dimensiones (2, 3, 4) con valores enteros del 1 al 24.\n",
    "\n",
    "- Transpón el array para intercambiar los ejes de la forma (2, 3, 4) a (4, 3, 2).\n",
    "\n",
    "- Observa cómo cambian las posiciones de los elementos y sus índices después de la transposición. Explica en una celda de markdown que es lo que ha pasado. \n"
   ]
  },
  {
   "cell_type": "code",
   "execution_count": 32,
   "id": "32476397",
   "metadata": {},
   "outputs": [
    {
     "data": {
      "text/plain": [
       "array([[[13, 21,  4,  9],\n",
       "        [20, 20,  3, 16],\n",
       "        [ 6,  7, 21, 11]],\n",
       "\n",
       "       [[ 1, 21, 22,  8],\n",
       "        [ 7, 22, 22, 17],\n",
       "        [19, 20, 15,  1]]], dtype=int32)"
      ]
     },
     "execution_count": 32,
     "metadata": {},
     "output_type": "execute_result"
    }
   ],
   "source": [
    "array_ejercicio17 = np.random.randint(1,24, (2,3,4))\n",
    "array_ejercicio17"
   ]
  },
  {
   "cell_type": "markdown",
   "id": "becc8ed6",
   "metadata": {},
   "source": [
    "**Explicación**\n",
    "\n",
    "Cuando se realiza la transpuesta de una matriz de dimensión mxn, se intercambian las filas por las columnas. Es decir, sea i el elemento de la fila, y j el de la columna, se definirá la transpuesta de la siguiente manera: \n",
    "$$\n",
    " A^{T}(j,i) = A(i,j)\n",
    "$$\n",
    "\n",
    "Cuando realizamos la transpuesta, al final intercambiamos la dimensión de la matriz original. En el ejercicio empezamos teniendo un array de dos tridimensional, es decir, compuesto de dos matrices, que contienen tres filas y cuatro columnas cada una. AL realizar la transpuesta nos quedará un array tridimensional, con cuatro matrices, las cuales van a contener tres filas y dos columnas cada una.\n"
   ]
  },
  {
   "cell_type": "code",
   "execution_count": 33,
   "id": "34d4005a",
   "metadata": {},
   "outputs": [
    {
     "name": "stdout",
     "output_type": "stream",
     "text": [
      "(4, 3, 2)\n"
     ]
    },
    {
     "data": {
      "text/plain": [
       "array([[[13,  1],\n",
       "        [20,  7],\n",
       "        [ 6, 19]],\n",
       "\n",
       "       [[21, 21],\n",
       "        [20, 22],\n",
       "        [ 7, 20]],\n",
       "\n",
       "       [[ 4, 22],\n",
       "        [ 3, 22],\n",
       "        [21, 15]],\n",
       "\n",
       "       [[ 9,  8],\n",
       "        [16, 17],\n",
       "        [11,  1]]], dtype=int32)"
      ]
     },
     "execution_count": 33,
     "metadata": {},
     "output_type": "execute_result"
    }
   ],
   "source": [
    "transpuesta_array_ej17 = np.transpose(array_ejercicio17)\n",
    "print(f\"{transpuesta_array_ej17.shape}\") \n",
    "transpuesta_array_ej17"
   ]
  },
  {
   "cell_type": "markdown",
   "id": "1e32b5e6",
   "metadata": {},
   "source": [
    "#### Ejercicio 18 - Genera un array tridimensional de dimensiones (3, 4, 2) con valores enteros del 1 al 24.\n",
    "\n",
    "- Transpón el array para intercambiar el primer y segundo eje, de manera que la nueva forma del array sea (4, 3, 2).\n"
   ]
  },
  {
   "cell_type": "code",
   "execution_count": 34,
   "id": "0146fdd6",
   "metadata": {},
   "outputs": [
    {
     "data": {
      "text/plain": [
       "array([[[19, 11],\n",
       "        [ 6,  2],\n",
       "        [20, 18],\n",
       "        [11, 20]],\n",
       "\n",
       "       [[22, 15],\n",
       "        [ 9,  6],\n",
       "        [17, 13],\n",
       "        [ 4,  4]],\n",
       "\n",
       "       [[22,  8],\n",
       "        [15, 15],\n",
       "        [17, 21],\n",
       "        [16, 13]]], dtype=int32)"
      ]
     },
     "execution_count": 34,
     "metadata": {},
     "output_type": "execute_result"
    }
   ],
   "source": [
    "array_ejercicio18 = np.random.randint(1,24, (3,4,2))\n",
    "array_ejercicio18"
   ]
  },
  {
   "cell_type": "code",
   "execution_count": 35,
   "id": "69f73edf",
   "metadata": {},
   "outputs": [
    {
     "name": "stdout",
     "output_type": "stream",
     "text": [
      "(4, 3, 2)\n"
     ]
    },
    {
     "data": {
      "text/plain": [
       "array([[[19, 11],\n",
       "        [22, 15],\n",
       "        [22,  8]],\n",
       "\n",
       "       [[ 6,  2],\n",
       "        [ 9,  6],\n",
       "        [15, 15]],\n",
       "\n",
       "       [[20, 18],\n",
       "        [17, 13],\n",
       "        [17, 21]],\n",
       "\n",
       "       [[11, 20],\n",
       "        [ 4,  4],\n",
       "        [16, 13]]], dtype=int32)"
      ]
     },
     "execution_count": 35,
     "metadata": {},
     "output_type": "execute_result"
    }
   ],
   "source": [
    "array_modificado_ej18 = np.transpose(array_ejercicio18, (1, 0, 2))\n",
    "print(f\"{array_modificado_ej18.shape}\") \n",
    "array_modificado_ej18"
   ]
  },
  {
   "cell_type": "markdown",
   "id": "fcf92586",
   "metadata": {},
   "source": [
    "#### Ejercicio 19 - Genera un array tridimensional de dimensiones (3, 2, 4) con valores enteros del 1 al 24.\n",
    "\n",
    "- Realiza una rotación completa de los ejes para convertir la forma original (3, 2, 4) en (4, 3, 2).\n"
   ]
  },
  {
   "cell_type": "code",
   "execution_count": 36,
   "id": "dd2c7f27",
   "metadata": {},
   "outputs": [
    {
     "data": {
      "text/plain": [
       "array([[[21,  6,  1,  1],\n",
       "        [22,  4,  7, 20]],\n",
       "\n",
       "       [[ 6, 23,  1, 13],\n",
       "        [19, 16, 12,  7]],\n",
       "\n",
       "       [[19, 15, 11, 11],\n",
       "        [ 6, 14, 18, 11]]], dtype=int32)"
      ]
     },
     "execution_count": 36,
     "metadata": {},
     "output_type": "execute_result"
    }
   ],
   "source": [
    "array_ejercicio19 = np.random.randint(1,24, (3,2,4))\n",
    "array_ejercicio19"
   ]
  },
  {
   "cell_type": "code",
   "execution_count": 37,
   "id": "c2c37f72",
   "metadata": {},
   "outputs": [
    {
     "name": "stdout",
     "output_type": "stream",
     "text": [
      "(4, 3, 2)\n"
     ]
    },
    {
     "data": {
      "text/plain": [
       "array([[[21, 22],\n",
       "        [ 6, 19],\n",
       "        [19,  6]],\n",
       "\n",
       "       [[ 6,  4],\n",
       "        [23, 16],\n",
       "        [15, 14]],\n",
       "\n",
       "       [[ 1,  7],\n",
       "        [ 1, 12],\n",
       "        [11, 18]],\n",
       "\n",
       "       [[ 1, 20],\n",
       "        [13,  7],\n",
       "        [11, 11]]], dtype=int32)"
      ]
     },
     "execution_count": 37,
     "metadata": {},
     "output_type": "execute_result"
    }
   ],
   "source": [
    "array_modificado_ej19 = np.transpose(array_ejercicio19, (2, 0, 1))\n",
    "print(f\"{array_modificado_ej19.shape}\") \n",
    "array_modificado_ej19"
   ]
  },
  {
   "cell_type": "markdown",
   "id": "1795e11f",
   "metadata": {},
   "source": [
    "#### Ejercicio 20 - Manipulación de Arrays en 3D\n",
    "\n",
    "- Crea un array tridimensional con dimensiones (3, 4, 5) cuyos elementos sean números enteros aleatorios entre -10 y 10.\n",
    "\n",
    "- Crea un array vacío con la misma forma y dimensiones que el array creado anteriormente. Luego, reemplaza los valores de la matriz vacía basada en los valores del primer array bajo las siguientes condiciones:\n",
    "\n",
    "   - Si el valor es igual a la mediana, se reemplaza por `\"M\"`.\n",
    "\n",
    "   - Si el valor es mayor que la mediana, se reemplaza por `\"X\"`.\n",
    "\n",
    "   - Si el valor es menor que la mediana, se reemplaza por `\"Y\"`.\n",
    "\n",
    "   - Si el valor es igual al máximo, se reemplaza por `\"MAX\"`.\n",
    "\n",
    "   - Si el valor es igual al mínimo, se reemplaza por `\"MIN\"`.\n"
   ]
  },
  {
   "cell_type": "code",
   "execution_count": 38,
   "id": "d309b397",
   "metadata": {},
   "outputs": [
    {
     "data": {
      "text/plain": [
       "array([[[  8,  -2,  -3,  -7,   2],\n",
       "        [  6, -10,   2,  -1,   2],\n",
       "        [  9,   2,  -9,  -7,  -3],\n",
       "        [ -2,   1,   0,   3,  -4]],\n",
       "\n",
       "       [[ -6,   2,   2,  -3,  -5],\n",
       "        [  5,   9,  -9,  -1,   2],\n",
       "        [  9,  -9,  -2,   7,   9],\n",
       "        [  4,  -7,  -4,  -1,   4]],\n",
       "\n",
       "       [[ -4,  -2,   7,   0,   7],\n",
       "        [  0,  -3,  -9,  -1,   8],\n",
       "        [ -2,   1,  -2,   0,   1],\n",
       "        [  6,  -7, -10,   4,   4]]], dtype=int32)"
      ]
     },
     "execution_count": 38,
     "metadata": {},
     "output_type": "execute_result"
    }
   ],
   "source": [
    "array_ejercicio20 = np.random.randint(-10, 10,(3,4,5))\n",
    "array_ejercicio20"
   ]
  },
  {
   "cell_type": "code",
   "execution_count": 39,
   "id": "c3af66f6",
   "metadata": {},
   "outputs": [
    {
     "data": {
      "text/plain": [
       "array([[['', '', '', '', ''],\n",
       "        ['', '', '', '', ''],\n",
       "        ['', '', '', '', ''],\n",
       "        ['', '', '', '', '']],\n",
       "\n",
       "       [['', '', '', '', ''],\n",
       "        ['', '', '', '', ''],\n",
       "        ['', '', '', '', ''],\n",
       "        ['', '', '', '', '']],\n",
       "\n",
       "       [['', '', '', '', ''],\n",
       "        ['', '', '', '', ''],\n",
       "        ['', '', '', '', ''],\n",
       "        ['', '', '', '', '']]], dtype='<U1')"
      ]
     },
     "execution_count": 39,
     "metadata": {},
     "output_type": "execute_result"
    }
   ],
   "source": [
    "array_vacio = np.empty((3,4,5), dtype = str)\n",
    "array_vacio"
   ]
  },
  {
   "cell_type": "code",
   "execution_count": 69,
   "id": "bcb76e10",
   "metadata": {},
   "outputs": [
    {
     "name": "stdout",
     "output_type": "stream",
     "text": [
      "La mediana del array tiene un valor de 0.0\n",
      "El valor maximo del array es 9\n",
      "El valor minimo del array es -10 \n",
      "\n",
      "[[['X' 'X' 'X' 'X' 'X']\n",
      "  ['X' 'X' 'X' 'X' 'X']\n",
      "  ['X' 'X' 'X' 'X' 'X']\n",
      "  ['X' 'X' 'X' 'X' 'X']]\n",
      "\n",
      " [['X' 'X' 'X' 'X' 'X']\n",
      "  ['X' 'X' 'X' 'X' 'X']\n",
      "  ['X' 'X' 'X' 'X' 'X']\n",
      "  ['X' 'X' 'X' 'X' 'X']]\n",
      "\n",
      " [['X' 'X' 'X' 'X' 'X']\n",
      "  ['X' 'X' 'X' 'X' 'X']\n",
      "  ['X' 'X' 'X' 'X' 'X']\n",
      "  ['X' 'X' 'X' 'X' 'X']]]\n"
     ]
    }
   ],
   "source": [
    "mediana_array_ej20 = np.median(array_ejercicio20)\n",
    "print(f\"La mediana del array tiene un valor de {mediana_array_ej20}\")\n",
    "maximo_array_ej20 = np.max(array_ejercicio20)\n",
    "print(f\"El valor maximo del array es {maximo_array_ej20}\")\n",
    "minimo_array_ej20 = np.min(array_ejercicio20)\n",
    "print(f\"El valor minimo del array es {minimo_array_ej20} \\n\")\n",
    "\n",
    "\n",
    "\n",
    "array_vacio[array_vacio == str(maximo_array_ej20) ] = \"MAX\"\n",
    "\n",
    "array_vacio[array_vacio == str(minimo_array_ej20)] = \"MIN\"\n",
    "array_vacio[array_vacio == mediana_array_ej20] = \"M\"\n",
    "\n",
    "array_vacio[array_vacio < str(mediana_array_ej20)] = \"Y\"\n",
    "\n",
    "array_vacio[array_vacio > str(mediana_array_ej20)] = \"X\"\n",
    "\n",
    "\n",
    "print(array_vacio)"
   ]
  },
  {
   "cell_type": "markdown",
   "id": "83794704",
   "metadata": {},
   "source": [
    "#### Ejercicio 21 - Verificación de Filas y Columnas Iguales\n",
    "\n",
    "Crea un array bidimensional de dimensiones 4x4, escribe un código para determinar si alguna fila es exactamente igual a alguna columna.\n",
    "\n",
    "**Reglas:**\n",
    "\n",
    "- No puedes usar funciones predefinidas de NumPy para comparar filas y columnas (`np.array_equal`, etc.).\n",
    "\n",
    "- Debes resolverlo con estructuras básicas de Python (bucles, condicionales, etc.).\n",
    "\n",
    "- Debes revisar si hay al menos una fila que coincida exactamente con alguna columna.\n",
    "\n",
    "**Pistas**:\n",
    "\n",
    "- Puedes recorrer cada fila y cada columna de la matriz usando bucles.\n",
    "\n",
    "- Para comparar una fila con una columna, puedes hacerlo elemento por elemento."
   ]
  },
  {
   "cell_type": "code",
   "execution_count": 51,
   "id": "6b7ddfde",
   "metadata": {},
   "outputs": [
    {
     "name": "stdout",
     "output_type": "stream",
     "text": [
      "La matriz original es: \n",
      " [[[0.80600627 0.26234802 0.72216037 0.68954768]\n",
      "  [0.55497238 0.63788278 0.32455478 0.50312433]\n",
      "  [0.60376009 0.90383514 0.78052346 0.68387241]\n",
      "  [0.814923   0.032478   0.06504284 0.60992788]]\n",
      "\n",
      " [[0.36887818 0.68370972 0.26431947 0.7235497 ]\n",
      "  [0.23071194 0.82990911 0.16147442 0.2395092 ]\n",
      "  [0.88844555 0.28274758 0.81116809 0.14766096]\n",
      "  [0.00879683 0.7204451  0.40067287 0.11765591]]]  \n",
      "\n",
      "La copia de la original es: \n",
      " [[[0.80600627 0.26234802 0.72216037 0.68954768]\n",
      "  [0.55497238 0.63788278 0.32455478 0.50312433]\n",
      "  [0.60376009 0.90383514 0.78052346 0.68387241]\n",
      "  [0.814923   0.032478   0.06504284 0.60992788]]\n",
      "\n",
      " [[0.36887818 0.68370972 0.26431947 0.7235497 ]\n",
      "  [0.23071194 0.82990911 0.16147442 0.2395092 ]\n",
      "  [0.88844555 0.28274758 0.81116809 0.14766096]\n",
      "  [0.00879683 0.7204451  0.40067287 0.11765591]]] \n",
      "\n"
     ]
    }
   ],
   "source": [
    "array_ejercicio21 = np.random.rand(2,4,4)\n",
    "print(f\"La matriz original es: \\n {array_ejercicio21}  \\n\")\n",
    "\n",
    "matriz_original_copia = array_ejercicio21.copy()\n",
    "print(f\"La copia de la original es: \\n {matriz_original_copia} \\n\")"
   ]
  },
  {
   "cell_type": "code",
   "execution_count": 81,
   "id": "afd51c60",
   "metadata": {},
   "outputs": [
    {
     "name": "stdout",
     "output_type": "stream",
     "text": [
      "[np.float64(0.8060062717108086), np.float64(0.2623480222650433), np.float64(0.7221603726021631), np.float64(0.6895476814204972)]\n",
      "[np.float64(1.8060062717108085), np.float64(1.5549723832850604), np.float64(1.6037600882190914), np.float64(1.8149229961048192)]\n"
     ]
    },
    {
     "ename": "KeyboardInterrupt",
     "evalue": "",
     "output_type": "error",
     "traceback": [
      "\u001b[1;31m---------------------------------------------------------------------------\u001b[0m",
      "\u001b[1;31mKeyboardInterrupt\u001b[0m                         Traceback (most recent call last)",
      "Cell \u001b[1;32mIn[81], line 18\u001b[0m\n\u001b[0;32m     13\u001b[0m     lista_columnas\u001b[38;5;241m.\u001b[39mappend(elemento)\n\u001b[0;32m     15\u001b[0m \u001b[38;5;28mprint\u001b[39m(lista_columnas)\n\u001b[1;32m---> 18\u001b[0m \u001b[38;5;28;01mwhile\u001b[39;00m \u001b[38;5;28mlen\u001b[39m(lista_filas) \u001b[38;5;241m==\u001b[39m \u001b[38;5;28mlen\u001b[39m(lista_columnas):\n\u001b[0;32m     20\u001b[0m     \u001b[38;5;28;01mif\u001b[39;00m lista_filas \u001b[38;5;241m==\u001b[39m lista_columnas:\n\u001b[0;32m     21\u001b[0m         \u001b[38;5;28mprint\u001b[39m(\u001b[38;5;124m\"\u001b[39m\u001b[38;5;124mtenemos igualdad\u001b[39m\u001b[38;5;124m\"\u001b[39m)\n",
      "\u001b[1;31mKeyboardInterrupt\u001b[0m: "
     ]
    }
   ],
   "source": [
    "fila = 0\n",
    "columna = 0\n",
    "matriz = 0\n",
    "\n",
    "lista_filas = []\n",
    "for elemento in array_ejercicio21[matriz,fila]:\n",
    "    lista_filas.append(elemento)\n",
    "\n",
    "print(lista_filas)\n",
    "\n",
    "lista_columnas = []\n",
    "for elemento in matriz_original_copia[matriz, :, columna]:\n",
    "    lista_columnas.append(elemento)\n",
    "\n",
    "print(lista_columnas)\n",
    "\n",
    "\n",
    "while len(lista_filas) == len(lista_columnas):\n",
    "    \n",
    "    if lista_filas == lista_columnas:\n",
    "        print(\"tenemos igualdad\")\n",
    "    fila += 1\n",
    "    columna += 1\n",
    "    matriz += 1\n",
    "\n",
    "\n",
    "    "
   ]
  }
 ],
 "metadata": {
  "kernelspec": {
   "display_name": "Python 3",
   "language": "python",
   "name": "python3"
  },
  "language_info": {
   "codemirror_mode": {
    "name": "ipython",
    "version": 3
   },
   "file_extension": ".py",
   "mimetype": "text/x-python",
   "name": "python",
   "nbconvert_exporter": "python",
   "pygments_lexer": "ipython3",
   "version": "3.12.4"
  }
 },
 "nbformat": 4,
 "nbformat_minor": 5
}
